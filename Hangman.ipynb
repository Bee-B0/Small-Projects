{
  "nbformat": 4,
  "nbformat_minor": 0,
  "metadata": {
    "colab": {
      "provenance": [],
      "authorship_tag": "ABX9TyOTNhibRRKfl1m+WVdhNg7t",
      "include_colab_link": true
    },
    "kernelspec": {
      "name": "python3",
      "display_name": "Python 3"
    },
    "language_info": {
      "name": "python"
    }
  },
  "cells": [
    {
      "cell_type": "markdown",
      "metadata": {
        "id": "view-in-github",
        "colab_type": "text"
      },
      "source": [
        "<a href=\"https://colab.research.google.com/github/Bee-B0/Small-Projects/blob/main/Hangman.ipynb\" target=\"_parent\"><img src=\"https://colab.research.google.com/assets/colab-badge.svg\" alt=\"Open In Colab\"/></a>"
      ]
    },
    {
      "cell_type": "markdown",
      "source": [
        "# **Hang Man!!**\n",
        "Made for fun, I might use it for the AP computer science principles create project. \n",
        "\n",
        "## How to use:\n",
        " Add words in the words.txt. One word per line, and in lowercase. Run all 4 cells in order. \n",
        "\n",
        "\n",
        "\n"
      ],
      "metadata": {
        "id": "f2KxcnMkJZCB"
      }
    },
    {
      "cell_type": "code",
      "source": [
        "import random\n",
        "from collections import OrderedDict ###https://favtutor.com/blogs/remove-duplicates-from-list-python\n",
        "from IPython.display import clear_output  ### https://stackoverflow.com/questions/60127913/how-to-clear-the-output-in-google-colab-via-code\n",
        "\n",
        "## word list from https://www.mit.edu/~ecprice/wordlist.10000\n"
      ],
      "metadata": {
        "id": "T6I4K5VvJX2U"
      },
      "execution_count": 271,
      "outputs": []
    },
    {
      "cell_type": "code",
      "source": [
        "image1=(\"---------------\")\n",
        "image2=(\"|             |\")\n",
        "#image3=(\"|             |\")\n",
        "loss1=(\"|            ( ) \")\n",
        "loss2=(\"|             | \")\n",
        "loss3part1=(\"|            /|\")\n",
        "loss3part2=(\"|            /|\\\\\")\n",
        "#print(\"|             | \")#loss 2\n",
        "loss4part1=(\"|             /\")\n",
        "loss4part2=(\"|            /  \")\n",
        "loss4part3=(\"|             /\\\\\")\n",
        "loss4part4=(\"|            /  \\\\\")\n",
        "image3=(\"|              \")\n",
        "#image5=(\"|              \")\n",
        "#image6=(\"---------------\")\n",
        "pieces=[image1,image2,image3,loss1,loss2,loss3part1,loss3part2,loss4part1,loss4part2]\n"
      ],
      "metadata": {
        "id": "7IX18_ezihrX"
      },
      "execution_count": 272,
      "outputs": []
    },
    {
      "cell_type": "code",
      "execution_count": 273,
      "metadata": {
        "id": "U79UnGBMcZqL"
      },
      "outputs": [],
      "source": [
        "def buildman(l):\n",
        "  print(image1 + \"\\n\"+ image2 +\"\\n\"+ image2 )\n",
        "\n",
        "\n",
        "  if l==1:\n",
        "    print(loss1 + \"\\n\"+ image3 +\"\\n\"+ image3 +\"\\n\"+ image3 +\"\\n\"+ image3 + \"\\n\"+ image3)\n",
        "  elif l==2:\n",
        "    print(loss1 + \"\\n\" + loss2 + \"\\n\" + loss2 + \"\\n\" + loss2 + \"\\n\"+ image3 + \"\\n\"+ image3 )\n",
        "  elif l==3:\n",
        "    print(loss1 + \"\\n\" + loss2 + \"\\n\" + loss2 + \"\\n\" + loss2 +\"\\n\" + loss4part1 + \"\\n\" + loss4part2 )\n",
        "  elif l==4:\n",
        "    print(loss1 + \"\\n\" + loss2 + \"\\n\" + loss2 + \"\\n\" + loss2 +\"\\n\" + loss4part3 + \"\\n\" + loss4part4 )\n",
        "  elif l==5:\n",
        "    print(loss1 + \"\\n\" + loss2 + \"\\n\" + loss3part1 + \"\\n\" + loss2 +\"\\n\" + loss4part3 + \"\\n\" + loss4part4 )\n",
        "  elif l>=6:\n",
        "    print(loss1 + \"\\n\" + loss2 + \"\\n\" + loss3part2 + \"\\n\"  + loss2 +\"\\n\" + loss4part3 + \"\\n\" + loss4part4 )\n",
        "  else:\n",
        "    print(image3+ \"\\n\"+ image3 +\"\\n\"+ image3 +\"\\n\"+ image3 +\"\\n\"+ image3 + \"\\n\"+ image3)\n",
        "  print(image3 +  \"\\n\"+ image3 +\"\\n\" + image1)\n",
        "\n",
        "\n",
        "\n",
        "def stringtolist(givenstring): ## takes a string and turns it into a word. \n",
        "\n",
        "  newlist=[]\n",
        "  for i in givenstring:\n",
        "    newlist.append(i)\n",
        "  return newlist\n",
        "  \n",
        "\n",
        "  \n",
        "\n",
        "\n",
        "def gamerun(word,letters,sortletters): ## the function to run the game\n",
        "  gameboard=[]\n",
        "  used = []\n",
        "  running= True\n",
        "  \n",
        "\n",
        "\n",
        "  for i in range(len(letters)):\n",
        "    gameboard.append(\"_\")\n",
        "\n",
        "  while running: ###https://realpython.com/lessons/setting-game-loop/\n",
        "\n",
        "\n",
        "  #### display ###\n",
        "    clear_output(6000)\n",
        "    buildman(len(used))\n",
        "    print(\"used letters: \"+ \" \".join(used))\n",
        "    print(' '.join(gameboard)) ##https://www.geeksforgeeks.org/print-lists-in-python-4-different-ways/\n",
        "    take=input(\"a letter? \\n\")\n",
        "\n",
        "\n",
        "#######################\n",
        "\n",
        "\n",
        "    if take in sortletters:  ###if letter is in word \n",
        "\n",
        "      if len(sortletters) < len(letters): ##means there is a duplicate letter\n",
        "        indlist=[]\n",
        "        for i in range(len(letters)):\n",
        "          if take==letters[i]:\n",
        "            indlist.append(i)\n",
        "            for i in range(len(indlist)):\n",
        "              gameboard.pop(indlist[i])\n",
        "              gameboard.insert(indlist[i], take)\n",
        "                    \n",
        "      else: ### normal letter \n",
        "        index= letters.index(take)\n",
        "      \n",
        "        gameboard.pop(index)\n",
        "        gameboard.insert(index, take)\n",
        "\n",
        "\n",
        "      \n",
        "      if \"_\"  not in gameboard: ## Game is won\n",
        "        clear_output()\n",
        "        buildman(len(used))\n",
        "        print(\"used letters: \"+ \" \".join(used))\n",
        "        print(' '.join(gameboard))\n",
        "        print(\"you win!!\")\n",
        "        running= False\n",
        "        return\n",
        "\n",
        "    elif len(used)==6: ## game is lost\n",
        "        clear_output()\n",
        "        buildman(6)\n",
        "        print(\"it died\")\n",
        "        print(\"the word was: \"+ word)\n",
        "        running= False\n",
        "        return\n",
        "\n",
        "    else:\n",
        "      print(\"nay\")\n",
        "      used.append(take)\n",
        "      \n",
        "\n"
      ]
    },
    {
      "cell_type": "code",
      "source": [
        "\n",
        "txt = open('words.txt').readlines() \n",
        "for i in range(len(txt)):\n",
        "  txt[i] = txt[i].replace('\\n','')  ## makes a list from the txt.\n",
        "\n",
        "\n",
        "\n",
        "\n"
      ],
      "metadata": {
        "id": "6ICSoeVn8t-i"
      },
      "execution_count": 280,
      "outputs": []
    },
    {
      "cell_type": "code",
      "source": [
        "\n",
        "wordchoice= random.randint(0, len(txt)-1)\n",
        "\n",
        "gamerun(txt[wordchoice],stringtolist(txt[wordchoice]),list(OrderedDict.fromkeys(sorted(txt[wordchoice]))))\n",
        "#user=input(\"Play again? y or n\")\n",
        "#yes= [\"y\",\"Y\",\"yes\",\"YES\",\"Yes\"]\n",
        "#if user in yes():\n",
        "  #wordchoice= random.randint(0, len(txt)-1)\n",
        "  #gamerun(txt[wordchoice],stringtolist(txt[wordchoice]),list(OrderedDict.fromkeys(sorted(txt[wordchoice]))))\n",
        "#else:\n",
        "  #print(\"bye\")"
      ],
      "metadata": {
        "colab": {
          "base_uri": "https://localhost:8080/"
        },
        "id": "I5pV7uP6-mOq",
        "outputId": "ee297fa3-23b6-477b-937d-60731431fab2"
      },
      "execution_count": 281,
      "outputs": [
        {
          "output_type": "stream",
          "name": "stdout",
          "text": [
            "---------------\n",
            "|             |\n",
            "|             |\n",
            "|            ( ) \n",
            "|             | \n",
            "|            /|\\\n",
            "|             | \n",
            "|             /\\\n",
            "|            /  \\\n",
            "|              \n",
            "|              \n",
            "---------------\n",
            "used letters: o u c m n l\n",
            "b a r r i e r s\n",
            "you win!!\n"
          ]
        }
      ]
    }
  ]
}