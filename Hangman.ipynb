{
  "nbformat": 4,
  "nbformat_minor": 0,
  "metadata": {
    "colab": {
      "provenance": [],
      "authorship_tag": "ABX9TyMAYXuaWpflt0dInETde/0w",
      "include_colab_link": true
    },
    "kernelspec": {
      "name": "python3",
      "display_name": "Python 3"
    },
    "language_info": {
      "name": "python"
    }
  },
  "cells": [
    {
      "cell_type": "markdown",
      "metadata": {
        "id": "view-in-github",
        "colab_type": "text"
      },
      "source": [
        "<a href=\"https://colab.research.google.com/github/Bee-B0/Small-Projects/blob/main/Hangman.ipynb\" target=\"_parent\"><img src=\"https://colab.research.google.com/assets/colab-badge.svg\" alt=\"Open In Colab\"/></a>"
      ]
    },
    {
      "cell_type": "markdown",
      "source": [
        "# **Hang Man!!**\n",
        "\n",
        "## How to use:\n",
        " Add words in the words.txt. One word per line, and in lowercase. Run all 4 cells in order. \n",
        "\n",
        "\n",
        "\n"
      ],
      "metadata": {
        "id": "f2KxcnMkJZCB"
      }
    },
    {
      "cell_type": "code",
      "source": [
        "import random\n",
        "from collections import OrderedDict ###https://favtutor.com/blogs/remove-duplicates-from-list-python\n",
        "from IPython.display import clear_output  ### https://stackoverflow.com/questions/60127913/how-to-clear-the-output-in-google-colab-via-code\n",
        "\n",
        "\n"
      ],
      "metadata": {
        "id": "T6I4K5VvJX2U"
      },
      "execution_count": 67,
      "outputs": []
    },
    {
      "cell_type": "code",
      "execution_count": 68,
      "metadata": {
        "id": "U79UnGBMcZqL"
      },
      "outputs": [],
      "source": [
        "\n",
        "\n",
        "def stringtolist(givenstring):\n",
        "\n",
        "  newlist=[]\n",
        "  for i in givenstring:\n",
        "    newlist.append(i)\n",
        "  return newlist\n",
        "  \n",
        "\n",
        "\n",
        "\n",
        "\n",
        "def gamerun(word,letters,sortletters):\n",
        "  gameboard=[]\n",
        "  used = []\n",
        "  running= True\n",
        "\n",
        "\n",
        "  for i in range(len(letters)):\n",
        "    gameboard.append(\"_\")\n",
        "\n",
        "  while running: ###https://realpython.com/lessons/setting-game-loop/\n",
        "    clear_output(6000)\n",
        "    print(' '.join(gameboard)) ##https://www.geeksforgeeks.org/print-lists-in-python-4-different-ways/\n",
        "    take=input(\"a letter? \\n\")\n",
        "  \n",
        "    if take in sortletters:\n",
        "      #print(\"yay\")\n",
        "\n",
        "      if len(sortletters) < len(letters): ##means there is a duplicate letter\n",
        "        #print(take)\n",
        "        indlist=[]\n",
        "        for i in range(len(letters)):\n",
        "          if take==letters[i]:\n",
        "            indlist.append(i)\n",
        "            for i in range(len(indlist)):\n",
        "              gameboard.pop(indlist[i])\n",
        "              gameboard.insert(indlist[i], take)\n",
        "      else:\n",
        "        index= letters.index(take)\n",
        "      \n",
        "        gameboard.pop(index)\n",
        "        gameboard.insert(index, take)\n",
        "\n",
        "      if \"_\"  not in gameboard:\n",
        "        clear_output()\n",
        "        print(\"used letters: \"+ \" \".join(used))\n",
        "        print(' '.join(gameboard))\n",
        "        print(\"game over\")\n",
        "\n",
        "        running = False\n",
        "\n",
        "    else:\n",
        "      print(\"nay\")\n",
        "      used.append(take)"
      ]
    },
    {
      "cell_type": "code",
      "source": [
        "\n",
        "txt = open('words.txt').readlines()\n",
        "for i in range(len(txt)):\n",
        "  txt[i] = txt[i].replace('\\n','')\n",
        "\n",
        "print(txt)\n",
        "\n",
        "wordchoice= random.randint(0, len(txt)-1)\n",
        "print(wordchoice)\n",
        "print(txt[wordchoice])\n"
      ],
      "metadata": {
        "colab": {
          "base_uri": "https://localhost:8080/"
        },
        "id": "6ICSoeVn8t-i",
        "outputId": "9f91d9d1-0b95-45e2-faf3-0eb0c1c50e60"
      },
      "execution_count": 69,
      "outputs": [
        {
          "output_type": "stream",
          "name": "stdout",
          "text": [
            "['hangman', 'phone', 'computer', 'tomato', 'ribbon', 'winner']\n",
            "2\n",
            "computer\n"
          ]
        }
      ]
    },
    {
      "cell_type": "code",
      "source": [
        "wordchoice= random.randint(0, len(txt)-1)\n",
        "\n",
        "gamerun(txt[wordchoice],stringtolist(txt[wordchoice]),list(OrderedDict.fromkeys(sorted(txt[wordchoice]))))"
      ],
      "metadata": {
        "colab": {
          "base_uri": "https://localhost:8080/"
        },
        "id": "I5pV7uP6-mOq",
        "outputId": "4ad15583-ceee-4e33-831c-133679de54dc"
      },
      "execution_count": 72,
      "outputs": [
        {
          "output_type": "stream",
          "name": "stdout",
          "text": [
            "used letters: i\n",
            "p h o n e\n",
            "game over\n"
          ]
        }
      ]
    }
  ]
}