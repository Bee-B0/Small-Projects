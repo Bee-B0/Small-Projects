{
  "nbformat": 4,
  "nbformat_minor": 0,
  "metadata": {
    "colab": {
      "provenance": [],
      "authorship_tag": "ABX9TyOMgqKNq6YVsS52BffvOMBm",
      "include_colab_link": true
    },
    "kernelspec": {
      "name": "python3",
      "display_name": "Python 3"
    },
    "language_info": {
      "name": "python"
    }
  },
  "cells": [
    {
      "cell_type": "markdown",
      "metadata": {
        "id": "view-in-github",
        "colab_type": "text"
      },
      "source": [
        "<a href=\"https://colab.research.google.com/github/Bee-B0/Small-Projects/blob/main/mirroredPalindromeChecker.ipynb\" target=\"_parent\"><img src=\"https://colab.research.google.com/assets/colab-badge.svg\" alt=\"Open In Colab\"/></a>"
      ]
    },
    {
      "cell_type": "markdown",
      "source": [
        "# Mirrored Palindrome Checker v2\n",
        "A mirrored palindrome is a word that is symmetrical through the center. For example: xoXox , bAd, AwA and qoop. \n",
        "\n",
        "## How to use it:\n",
        "When prompted, type in the word. If it answers TAK that means the word is a mirrored palindrome, and if it answers NIE, it is not. "
      ],
      "metadata": {
        "id": "2p_W98LfVA3x"
      }
    },
    {
      "cell_type": "code",
      "source": [
        "import datetime\n",
        "\n",
        "inputWord1 = input(\"mirror palindrome word: \")\n",
        "\n",
        "start = datetime.datetime.now() \n",
        "\n",
        "allowedletters = \"AbdHIMOopqTUVvWwXxY\" #possible letters\n",
        "inputList=[]\n",
        "points=0 \n",
        "\n",
        "if(all(ch in allowedletters for ch in inputWord1)):\n",
        "  points=points+1\n",
        "\n",
        "for letter in inputWord1: #breaks up input into a list\n",
        "    inputList.append(letter)\n",
        "\n",
        "print(inputList)\n",
        "backList=inputList[::-1]\n",
        "print(backList)\n",
        "\n",
        "if (len(inputList)%2 ==1): #if odd\n",
        "  points= points+1\n",
        "\n",
        "if (inputList[int(((len(inputList) - 1)/2))]== \"p\") or (inputList[int(((len(inputList) - 1)/2))]== \"q\") or (inputList[int(((len(inputList) - 1)/2))]==\"d\") or (inputList[int(((len(inputList) - 1)/2))]== \"b\"  ):\n",
        "  print(\"pop\")\n",
        "else:\n",
        "  points = points+1\n",
        "\n",
        "for i in range (len(inputList)):\n",
        "  if (inputList[i]==\"p\" and backList[i]==\"q\") or (inputList[i]==\"p\" and backList[i]==\"q\") or (inputList[i]==\"b\" and backList[i]==\"d\") or (inputList[i]==\"d\" and backList[i]==\"b\") or (inputList[i]==backList[i], i,\" same letter\"):\n",
        "    points=points+1\n",
        "\n",
        "print(points,\"/\", i+4)\n",
        "if (points == (i+4)):\n",
        "  print(\"TAK\")\n",
        "else:\n",
        "  print(\"NIE\")\n",
        "\n",
        "\n",
        "finish = datetime.datetime.now()\n",
        "print(finish-start)"
      ],
      "metadata": {
        "colab": {
          "base_uri": "https://localhost:8080/"
        },
        "id": "jwMR4VPR-L-a",
        "outputId": "4def2dde-9290-4bce-e5c9-12f82e846b0d"
      },
      "execution_count": null,
      "outputs": [
        {
          "output_type": "stream",
          "name": "stdout",
          "text": [
            "mirror palindrome word: xoxox\n",
            "['x', 'o', 'x', 'o', 'x']\n",
            "['x', 'o', 'x', 'o', 'x']\n",
            "8 / 8\n",
            "TAK\n",
            "0:00:00.001353\n"
          ]
        }
      ]
    }
  ]
}